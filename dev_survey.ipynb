{
 "cells": [
  {
   "attachments": {},
   "cell_type": "markdown",
   "metadata": {},
   "source": [
    "# Insights from 2018 Stackoverflow developer survey "
   ]
  },
  {
   "cell_type": "code",
   "execution_count": 6,
   "metadata": {},
   "outputs": [
    {
     "data": {
      "text/html": [
       "<script>requirejs.config({paths: { 'plotly': ['https://cdn.plot.ly/plotly-latest.min']},});if(!window.Plotly) {{require(['plotly'],function(plotly) {window.Plotly=plotly;});}}</script>"
      ],
      "text/vnd.plotly.v1+html": [
       "<script>requirejs.config({paths: { 'plotly': ['https://cdn.plot.ly/plotly-latest.min']},});if(!window.Plotly) {{require(['plotly'],function(plotly) {window.Plotly=plotly;});}}</script>"
      ]
     },
     "metadata": {},
     "output_type": "display_data"
    }
   ],
   "source": [
    "import pandas as pd\n",
    "import numpy as np\n",
    "import seaborn as sns\n",
    "import matplotlib.pyplot as plt\n",
    "sns.set(style=\"ticks\")\n",
    "import copy\n",
    "from scipy import stats\n",
    "\n",
    "import plotly\n",
    "import plotly.graph_objs as go\n",
    "\n",
    "plotly.offline.init_notebook_mode(connected=True)"
   ]
  },
  {
   "attachments": {},
   "cell_type": "markdown",
   "metadata": {
    "collapsed": true
   },
   "source": [
    "## Load data\n",
    "\n",
    "1. Load the public survey results dataset from 2018\n",
    "2. Parse data and attribute a developer role using the following criteria:\n",
    "    - When \"developer\" is in the DevType column, it is considered a developer, otherwise it's not one. For example: \n",
    "      - For \"Engineering manager\" we set `IsDeveloper = false`\n",
    "      - For \"Front-end developer\" we set `IsDeveloper = true`"
   ]
  },
  {
   "cell_type": "code",
   "execution_count": 12,
   "metadata": {},
   "outputs": [
    {
     "data": {
      "text/html": [
       "<div>\n",
       "<style scoped>\n",
       "    .dataframe tbody tr th:only-of-type {\n",
       "        vertical-align: middle;\n",
       "    }\n",
       "\n",
       "    .dataframe tbody tr th {\n",
       "        vertical-align: top;\n",
       "    }\n",
       "\n",
       "    .dataframe thead th {\n",
       "        text-align: right;\n",
       "    }\n",
       "</style>\n",
       "<table border=\"1\" class=\"dataframe\">\n",
       "  <thead>\n",
       "    <tr style=\"text-align: right;\">\n",
       "      <th></th>\n",
       "      <th>Respondent</th>\n",
       "      <th>Hobby</th>\n",
       "      <th>OpenSource</th>\n",
       "      <th>Country</th>\n",
       "      <th>Student</th>\n",
       "      <th>Employment</th>\n",
       "      <th>FormalEducation</th>\n",
       "      <th>UndergradMajor</th>\n",
       "      <th>CompanySize</th>\n",
       "      <th>DevType</th>\n",
       "      <th>...</th>\n",
       "      <th>Gender</th>\n",
       "      <th>SexualOrientation</th>\n",
       "      <th>EducationParents</th>\n",
       "      <th>RaceEthnicity</th>\n",
       "      <th>Age</th>\n",
       "      <th>Dependents</th>\n",
       "      <th>MilitaryUS</th>\n",
       "      <th>SurveyTooLong</th>\n",
       "      <th>SurveyEasy</th>\n",
       "      <th>IsDeveloper</th>\n",
       "    </tr>\n",
       "  </thead>\n",
       "  <tbody>\n",
       "    <tr>\n",
       "      <th>0</th>\n",
       "      <td>1</td>\n",
       "      <td>Yes</td>\n",
       "      <td>No</td>\n",
       "      <td>Kenya</td>\n",
       "      <td>No</td>\n",
       "      <td>Employed part-time</td>\n",
       "      <td>Bachelor’s degree (BA, BS, B.Eng., etc.)</td>\n",
       "      <td>Mathematics or statistics</td>\n",
       "      <td>20 to 99 employees</td>\n",
       "      <td>Full-stack developer</td>\n",
       "      <td>...</td>\n",
       "      <td>Male</td>\n",
       "      <td>Straight or heterosexual</td>\n",
       "      <td>Bachelor’s degree (BA, BS, B.Eng., etc.)</td>\n",
       "      <td>Black or of African descent</td>\n",
       "      <td>25 - 34 years old</td>\n",
       "      <td>Yes</td>\n",
       "      <td>NaN</td>\n",
       "      <td>The survey was an appropriate length</td>\n",
       "      <td>Very easy</td>\n",
       "      <td>True</td>\n",
       "    </tr>\n",
       "    <tr>\n",
       "      <th>1</th>\n",
       "      <td>3</td>\n",
       "      <td>Yes</td>\n",
       "      <td>Yes</td>\n",
       "      <td>United Kingdom</td>\n",
       "      <td>No</td>\n",
       "      <td>Employed full-time</td>\n",
       "      <td>Bachelor’s degree (BA, BS, B.Eng., etc.)</td>\n",
       "      <td>A natural science (ex. biology, chemistry, phy...</td>\n",
       "      <td>10,000 or more employees</td>\n",
       "      <td>Database administrator;DevOps specialist;Full-...</td>\n",
       "      <td>...</td>\n",
       "      <td>Male</td>\n",
       "      <td>Straight or heterosexual</td>\n",
       "      <td>Bachelor’s degree (BA, BS, B.Eng., etc.)</td>\n",
       "      <td>White or of European descent</td>\n",
       "      <td>35 - 44 years old</td>\n",
       "      <td>Yes</td>\n",
       "      <td>NaN</td>\n",
       "      <td>The survey was an appropriate length</td>\n",
       "      <td>Somewhat easy</td>\n",
       "      <td>True</td>\n",
       "    </tr>\n",
       "    <tr>\n",
       "      <th>2</th>\n",
       "      <td>4</td>\n",
       "      <td>Yes</td>\n",
       "      <td>Yes</td>\n",
       "      <td>United States</td>\n",
       "      <td>No</td>\n",
       "      <td>Employed full-time</td>\n",
       "      <td>Associate degree</td>\n",
       "      <td>Computer science, computer engineering, or sof...</td>\n",
       "      <td>20 to 99 employees</td>\n",
       "      <td>Engineering manager;Full-stack developer</td>\n",
       "      <td>...</td>\n",
       "      <td>NaN</td>\n",
       "      <td>NaN</td>\n",
       "      <td>NaN</td>\n",
       "      <td>NaN</td>\n",
       "      <td>NaN</td>\n",
       "      <td>NaN</td>\n",
       "      <td>NaN</td>\n",
       "      <td>NaN</td>\n",
       "      <td>NaN</td>\n",
       "      <td>True</td>\n",
       "    </tr>\n",
       "    <tr>\n",
       "      <th>3</th>\n",
       "      <td>5</td>\n",
       "      <td>No</td>\n",
       "      <td>No</td>\n",
       "      <td>United States</td>\n",
       "      <td>No</td>\n",
       "      <td>Employed full-time</td>\n",
       "      <td>Bachelor’s degree (BA, BS, B.Eng., etc.)</td>\n",
       "      <td>Computer science, computer engineering, or sof...</td>\n",
       "      <td>100 to 499 employees</td>\n",
       "      <td>Full-stack developer</td>\n",
       "      <td>...</td>\n",
       "      <td>Male</td>\n",
       "      <td>Straight or heterosexual</td>\n",
       "      <td>Some college/university study without earning ...</td>\n",
       "      <td>White or of European descent</td>\n",
       "      <td>35 - 44 years old</td>\n",
       "      <td>No</td>\n",
       "      <td>No</td>\n",
       "      <td>The survey was an appropriate length</td>\n",
       "      <td>Somewhat easy</td>\n",
       "      <td>True</td>\n",
       "    </tr>\n",
       "    <tr>\n",
       "      <th>4</th>\n",
       "      <td>7</td>\n",
       "      <td>Yes</td>\n",
       "      <td>No</td>\n",
       "      <td>South Africa</td>\n",
       "      <td>Yes, part-time</td>\n",
       "      <td>Employed full-time</td>\n",
       "      <td>Some college/university study without earning ...</td>\n",
       "      <td>Computer science, computer engineering, or sof...</td>\n",
       "      <td>10,000 or more employees</td>\n",
       "      <td>Data or business analyst;Desktop or enterprise...</td>\n",
       "      <td>...</td>\n",
       "      <td>Male</td>\n",
       "      <td>Straight or heterosexual</td>\n",
       "      <td>Some college/university study without earning ...</td>\n",
       "      <td>White or of European descent</td>\n",
       "      <td>18 - 24 years old</td>\n",
       "      <td>Yes</td>\n",
       "      <td>NaN</td>\n",
       "      <td>The survey was an appropriate length</td>\n",
       "      <td>Somewhat easy</td>\n",
       "      <td>True</td>\n",
       "    </tr>\n",
       "  </tbody>\n",
       "</table>\n",
       "<p>5 rows × 130 columns</p>\n",
       "</div>"
      ],
      "text/plain": [
       "   Respondent Hobby OpenSource         Country         Student  \\\n",
       "0           1   Yes         No           Kenya              No   \n",
       "1           3   Yes        Yes  United Kingdom              No   \n",
       "2           4   Yes        Yes   United States              No   \n",
       "3           5    No         No   United States              No   \n",
       "4           7   Yes         No    South Africa  Yes, part-time   \n",
       "\n",
       "           Employment                                    FormalEducation  \\\n",
       "0  Employed part-time           Bachelor’s degree (BA, BS, B.Eng., etc.)   \n",
       "1  Employed full-time           Bachelor’s degree (BA, BS, B.Eng., etc.)   \n",
       "2  Employed full-time                                   Associate degree   \n",
       "3  Employed full-time           Bachelor’s degree (BA, BS, B.Eng., etc.)   \n",
       "4  Employed full-time  Some college/university study without earning ...   \n",
       "\n",
       "                                      UndergradMajor  \\\n",
       "0                          Mathematics or statistics   \n",
       "1  A natural science (ex. biology, chemistry, phy...   \n",
       "2  Computer science, computer engineering, or sof...   \n",
       "3  Computer science, computer engineering, or sof...   \n",
       "4  Computer science, computer engineering, or sof...   \n",
       "\n",
       "                CompanySize  \\\n",
       "0        20 to 99 employees   \n",
       "1  10,000 or more employees   \n",
       "2        20 to 99 employees   \n",
       "3      100 to 499 employees   \n",
       "4  10,000 or more employees   \n",
       "\n",
       "                                             DevType  ... Gender  \\\n",
       "0                               Full-stack developer  ...   Male   \n",
       "1  Database administrator;DevOps specialist;Full-...  ...   Male   \n",
       "2           Engineering manager;Full-stack developer  ...    NaN   \n",
       "3                               Full-stack developer  ...   Male   \n",
       "4  Data or business analyst;Desktop or enterprise...  ...   Male   \n",
       "\n",
       "          SexualOrientation  \\\n",
       "0  Straight or heterosexual   \n",
       "1  Straight or heterosexual   \n",
       "2                       NaN   \n",
       "3  Straight or heterosexual   \n",
       "4  Straight or heterosexual   \n",
       "\n",
       "                                    EducationParents  \\\n",
       "0           Bachelor’s degree (BA, BS, B.Eng., etc.)   \n",
       "1           Bachelor’s degree (BA, BS, B.Eng., etc.)   \n",
       "2                                                NaN   \n",
       "3  Some college/university study without earning ...   \n",
       "4  Some college/university study without earning ...   \n",
       "\n",
       "                  RaceEthnicity                Age Dependents MilitaryUS  \\\n",
       "0   Black or of African descent  25 - 34 years old        Yes        NaN   \n",
       "1  White or of European descent  35 - 44 years old        Yes        NaN   \n",
       "2                           NaN                NaN        NaN        NaN   \n",
       "3  White or of European descent  35 - 44 years old         No         No   \n",
       "4  White or of European descent  18 - 24 years old        Yes        NaN   \n",
       "\n",
       "                          SurveyTooLong     SurveyEasy  IsDeveloper  \n",
       "0  The survey was an appropriate length      Very easy         True  \n",
       "1  The survey was an appropriate length  Somewhat easy         True  \n",
       "2                                   NaN            NaN         True  \n",
       "3  The survey was an appropriate length  Somewhat easy         True  \n",
       "4  The survey was an appropriate length  Somewhat easy         True  \n",
       "\n",
       "[5 rows x 130 columns]"
      ]
     },
     "execution_count": 12,
     "metadata": {},
     "output_type": "execute_result"
    }
   ],
   "source": [
    "data = pd.read_csv(\"survey_results_public.csv\", low_memory=False)\n",
    "data['IsDeveloper'] = data.DevType.str.contains('developer')\n",
    "data.head()"
   ]
  },
  {
   "attachments": {},
   "cell_type": "markdown",
   "metadata": {},
   "source": [
    "## Extract insights\n",
    "\n",
    "The goal of this analysis is to extract general insights from this dataset. In the next sections, we explore the survey results to answer the following business questions:\n",
    "\n",
    "#### Turn-over factors\n",
    "    - Are developers predominantly active job seekers or not? \n",
    "\n",
    "#### Impact of programming language\n",
    "    - Are functional language developers happier than non-functional ones?\n",
    "\n",
    "#### Compensation x Satisfaction\n",
    "    - What is the salary level after which money doesn't make a difference in terms of job satisfaction? \n",
    "\n",
    "#### Wellness \n",
    "    - Do developers who exercise are happier and more productive than developers who don’t exercise?"
   ]
  },
  {
   "attachments": {},
   "cell_type": "markdown",
   "metadata": {},
   "source": [
    "### Q1. Are Latin American developers predominantly active job seekers or not? \n",
    "We restricted the analysis to the following countries: Brazil, Argentina, Uruguay, Paraguay, Bolivia, Peru, Colombia, Venezuela, Bolivia, Suriname, Guyana, French Guiana"
   ]
  },
  {
   "cell_type": "code",
   "execution_count": 13,
   "metadata": {},
   "outputs": [],
   "source": [
    "countries = ['Brazil','Argentina','Uruguay','Paraguay','Bolivia','Peru','Colombia', \n",
    "             'Venezuela, Bolivarian Republic of...','Suriname','Guyana','French Guiana']\n"
   ]
  },
  {
   "cell_type": "code",
   "execution_count": 14,
   "metadata": {},
   "outputs": [
    {
     "data": {
      "text/html": [
       "<div>\n",
       "<style scoped>\n",
       "    .dataframe tbody tr th:only-of-type {\n",
       "        vertical-align: middle;\n",
       "    }\n",
       "\n",
       "    .dataframe tbody tr th {\n",
       "        vertical-align: top;\n",
       "    }\n",
       "\n",
       "    .dataframe thead th {\n",
       "        text-align: right;\n",
       "    }\n",
       "</style>\n",
       "<table border=\"1\" class=\"dataframe\">\n",
       "  <thead>\n",
       "    <tr style=\"text-align: right;\">\n",
       "      <th></th>\n",
       "      <th>Country</th>\n",
       "      <th>TotalDevelopers</th>\n",
       "      <th>ActiveJobseekers</th>\n",
       "      <th>ActiveJobseekersRate</th>\n",
       "    </tr>\n",
       "  </thead>\n",
       "  <tbody>\n",
       "    <tr>\n",
       "      <th>3</th>\n",
       "      <td>Venezuela, Bolivarian Republic of...</td>\n",
       "      <td>93</td>\n",
       "      <td>34.0</td>\n",
       "      <td>0.37</td>\n",
       "    </tr>\n",
       "    <tr>\n",
       "      <th>4</th>\n",
       "      <td>Peru</td>\n",
       "      <td>83</td>\n",
       "      <td>27.0</td>\n",
       "      <td>0.33</td>\n",
       "    </tr>\n",
       "    <tr>\n",
       "      <th>6</th>\n",
       "      <td>Paraguay</td>\n",
       "      <td>37</td>\n",
       "      <td>12.0</td>\n",
       "      <td>0.32</td>\n",
       "    </tr>\n",
       "    <tr>\n",
       "      <th>2</th>\n",
       "      <td>Colombia</td>\n",
       "      <td>260</td>\n",
       "      <td>68.0</td>\n",
       "      <td>0.26</td>\n",
       "    </tr>\n",
       "    <tr>\n",
       "      <th>0</th>\n",
       "      <td>Brazil</td>\n",
       "      <td>1829</td>\n",
       "      <td>339.0</td>\n",
       "      <td>0.19</td>\n",
       "    </tr>\n",
       "    <tr>\n",
       "      <th>7</th>\n",
       "      <td>Bolivia</td>\n",
       "      <td>29</td>\n",
       "      <td>5.0</td>\n",
       "      <td>0.17</td>\n",
       "    </tr>\n",
       "    <tr>\n",
       "      <th>1</th>\n",
       "      <td>Argentina</td>\n",
       "      <td>468</td>\n",
       "      <td>59.0</td>\n",
       "      <td>0.13</td>\n",
       "    </tr>\n",
       "    <tr>\n",
       "      <th>5</th>\n",
       "      <td>Uruguay</td>\n",
       "      <td>75</td>\n",
       "      <td>5.0</td>\n",
       "      <td>0.07</td>\n",
       "    </tr>\n",
       "    <tr>\n",
       "      <th>8</th>\n",
       "      <td>Guyana</td>\n",
       "      <td>2</td>\n",
       "      <td>0.0</td>\n",
       "      <td>0.00</td>\n",
       "    </tr>\n",
       "    <tr>\n",
       "      <th>9</th>\n",
       "      <td>Suriname</td>\n",
       "      <td>1</td>\n",
       "      <td>0.0</td>\n",
       "      <td>0.00</td>\n",
       "    </tr>\n",
       "  </tbody>\n",
       "</table>\n",
       "</div>"
      ],
      "text/plain": [
       "                                Country  TotalDevelopers  ActiveJobseekers  \\\n",
       "3  Venezuela, Bolivarian Republic of...               93              34.0   \n",
       "4                                  Peru               83              27.0   \n",
       "6                              Paraguay               37              12.0   \n",
       "2                              Colombia              260              68.0   \n",
       "0                                Brazil             1829             339.0   \n",
       "7                               Bolivia               29               5.0   \n",
       "1                             Argentina              468              59.0   \n",
       "5                               Uruguay               75               5.0   \n",
       "8                                Guyana                2               0.0   \n",
       "9                              Suriname                1               0.0   \n",
       "\n",
       "   ActiveJobseekersRate  \n",
       "3                  0.37  \n",
       "4                  0.33  \n",
       "6                  0.32  \n",
       "2                  0.26  \n",
       "0                  0.19  \n",
       "7                  0.17  \n",
       "1                  0.13  \n",
       "5                  0.07  \n",
       "8                  0.00  \n",
       "9                  0.00  "
      ]
     },
     "execution_count": 14,
     "metadata": {},
     "output_type": "execute_result"
    }
   ],
   "source": [
    "# Getting total developers, total active job seekers and active job seekers rate for each country.\n",
    "data_country = data[((data.IsDeveloper == True) &\n",
    "                    (data.Country.isin(countries)) & \n",
    "                    (data.JobSearchStatus.notnull()))]\n",
    "\n",
    "total = data_country.Country.value_counts()\n",
    "total = total.rename_axis('Country').reset_index(name='TotalDevelopers')\n",
    "\n",
    "active_jobseekers = data_country[data_country.JobSearchStatus == 'I am actively looking for a job'].Country.value_counts()\n",
    "active_jobseekers = active_jobseekers.rename_axis('Country').reset_index(name='ActiveJobseekers')\n",
    "\n",
    "result = pd.merge(total, active_jobseekers,on='Country', how='outer').fillna(0)\n",
    "result['ActiveJobseekersRate'] = round(result.ActiveJobseekers / result.TotalDevelopers,2)\n",
    "result = result.sort_values('ActiveJobseekersRate', ascending=False)\n",
    "result "
   ]
  },
  {
   "cell_type": "code",
   "execution_count": 442,
   "metadata": {},
   "outputs": [
    {
     "data": {
      "image/png": "[encoded data removed]",
      "text/plain": [
       "<Figure size 432x288 with 1 Axes>"
      ]
     },
     "metadata": {},
     "output_type": "display_data"
    }
   ],
   "source": [
    "sns.set(style=\"whitegrid\")\n",
    "ax = sns.barplot(x=\"ActiveJobseekersRate\", y=\"Country\", data=result)\n",
    "plt.show()"
   ]
  },
  {
   "attachments": {},
   "cell_type": "markdown",
   "metadata": {},
   "source": [
    "It seems Latin developers are not predominantly active job seekers. The Top5 rank by country suggests the following distribution:\n",
    "- Peru (33%)\n",
    "- Paraguay (32%)\n",
    "- Colombia (26%)\n",
    "- Brazil (19%)\n",
    "- Argentina (15%)\n",
    "\n",
    "Mostly of the developers for these country are NOT actively looking for new jobs. Are they satisfied with their current jobs? It's something we try to answer in the next analysis."
   ]
  },
  {
   "attachments": {},
   "cell_type": "markdown",
   "metadata": {
    "collapsed": true
   },
   "source": [
    "### Q2. Are people writing code in functional languages happier compared to non-functional developers?\n",
    "\n",
    "In this analysis, we define a functional developer as someone coding primarly in Erlang, Haskell, Lisp, Scheme, Clojure or Scala. Are developers coding in this stack happier than others?"
   ]
  },
  {
   "cell_type": "code",
   "execution_count": 15,
   "metadata": {},
   "outputs": [
    {
     "data": {
      "text/html": [
       "<div>\n",
       "<style scoped>\n",
       "    .dataframe tbody tr th:only-of-type {\n",
       "        vertical-align: middle;\n",
       "    }\n",
       "\n",
       "    .dataframe tbody tr th {\n",
       "        vertical-align: top;\n",
       "    }\n",
       "\n",
       "    .dataframe thead th {\n",
       "        text-align: right;\n",
       "    }\n",
       "</style>\n",
       "<table border=\"1\" class=\"dataframe\">\n",
       "  <thead>\n",
       "    <tr style=\"text-align: right;\">\n",
       "      <th></th>\n",
       "      <th>LanguageWorkedWith</th>\n",
       "      <th>IsFunctional</th>\n",
       "    </tr>\n",
       "  </thead>\n",
       "  <tbody>\n",
       "    <tr>\n",
       "      <th>0</th>\n",
       "      <td>JavaScript;Python;HTML;CSS</td>\n",
       "      <td>False</td>\n",
       "    </tr>\n",
       "    <tr>\n",
       "      <th>1</th>\n",
       "      <td>JavaScript;Python;Bash/Shell</td>\n",
       "      <td>False</td>\n",
       "    </tr>\n",
       "    <tr>\n",
       "      <th>2</th>\n",
       "      <td>NaN</td>\n",
       "      <td>NaN</td>\n",
       "    </tr>\n",
       "    <tr>\n",
       "      <th>3</th>\n",
       "      <td>C#;JavaScript;SQL;TypeScript;HTML;CSS;Bash/Shell</td>\n",
       "      <td>False</td>\n",
       "    </tr>\n",
       "    <tr>\n",
       "      <th>4</th>\n",
       "      <td>C;C++;Java;Matlab;R;SQL;Bash/Shell</td>\n",
       "      <td>False</td>\n",
       "    </tr>\n",
       "    <tr>\n",
       "      <th>5</th>\n",
       "      <td>Java;JavaScript;Python;TypeScript;HTML;CSS</td>\n",
       "      <td>False</td>\n",
       "    </tr>\n",
       "    <tr>\n",
       "      <th>6</th>\n",
       "      <td>JavaScript;HTML;CSS</td>\n",
       "      <td>False</td>\n",
       "    </tr>\n",
       "    <tr>\n",
       "      <th>7</th>\n",
       "      <td>JavaScript;TypeScript;HTML;CSS</td>\n",
       "      <td>False</td>\n",
       "    </tr>\n",
       "    <tr>\n",
       "      <th>8</th>\n",
       "      <td>Assembly;CoffeeScript;Erlang;Go;JavaScript;Lua...</td>\n",
       "      <td>True</td>\n",
       "    </tr>\n",
       "    <tr>\n",
       "      <th>9</th>\n",
       "      <td>NaN</td>\n",
       "      <td>NaN</td>\n",
       "    </tr>\n",
       "  </tbody>\n",
       "</table>\n",
       "</div>"
      ],
      "text/plain": [
       "                                  LanguageWorkedWith IsFunctional\n",
       "0                         JavaScript;Python;HTML;CSS        False\n",
       "1                       JavaScript;Python;Bash/Shell        False\n",
       "2                                                NaN          NaN\n",
       "3   C#;JavaScript;SQL;TypeScript;HTML;CSS;Bash/Shell        False\n",
       "4                 C;C++;Java;Matlab;R;SQL;Bash/Shell        False\n",
       "5         Java;JavaScript;Python;TypeScript;HTML;CSS        False\n",
       "6                                JavaScript;HTML;CSS        False\n",
       "7                     JavaScript;TypeScript;HTML;CSS        False\n",
       "8  Assembly;CoffeeScript;Erlang;Go;JavaScript;Lua...         True\n",
       "9                                                NaN          NaN"
      ]
     },
     "execution_count": 15,
     "metadata": {},
     "output_type": "execute_result"
    }
   ],
   "source": [
    "func_languages = ['Erlang', 'Haskell', 'Lisp', 'Scheme', 'Clojure', 'Scala']\n",
    "\n",
    "data_fl = copy.deepcopy(data)\n",
    "data_fl['IsFunctional'] = data.LanguageWorkedWith.str.contains('|'.join(func_languages))\n",
    "\n",
    "data_fl[['LanguageWorkedWith', 'IsFunctional']].head(10)"
   ]
  },
  {
   "cell_type": "code",
   "execution_count": 16,
   "metadata": {},
   "outputs": [
    {
     "data": {
      "text/plain": [
       "array(['Extremely satisfied', 'Moderately dissatisfied',\n",
       "       'Neither satisfied nor dissatisfied', 'Slightly satisfied',\n",
       "       'Moderately satisfied', 'Slightly dissatisfied',\n",
       "       'Extremely dissatisfied'], dtype=object)"
      ]
     },
     "execution_count": 16,
     "metadata": {},
     "output_type": "execute_result"
    }
   ],
   "source": [
    "# Removing null values and who has never had a job.\n",
    "data_fl = data_fl[(data_fl.LanguageWorkedWith.notnull()) & \n",
    "                  (data_fl.LastNewJob.notnull()) & \n",
    "                  (data_fl.LastNewJob != \"I've never had a job\") &\n",
    "                  (data_fl.JobSatisfaction.notnull()) &\n",
    "                  (data_fl.IsDeveloper.notnull())]\n",
    "\n",
    "data_fl.JobSatisfaction.unique()"
   ]
  },
  {
   "cell_type": "code",
   "execution_count": 17,
   "metadata": {},
   "outputs": [
    {
     "data": {
      "text/html": [
       "<div>\n",
       "<style scoped>\n",
       "    .dataframe tbody tr th:only-of-type {\n",
       "        vertical-align: middle;\n",
       "    }\n",
       "\n",
       "    .dataframe tbody tr th {\n",
       "        vertical-align: top;\n",
       "    }\n",
       "\n",
       "    .dataframe thead th {\n",
       "        text-align: right;\n",
       "    }\n",
       "</style>\n",
       "<table border=\"1\" class=\"dataframe\">\n",
       "  <thead>\n",
       "    <tr style=\"text-align: right;\">\n",
       "      <th></th>\n",
       "      <th>JobSatisfaction</th>\n",
       "      <th>JobSatisfactionScore</th>\n",
       "    </tr>\n",
       "  </thead>\n",
       "  <tbody>\n",
       "    <tr>\n",
       "      <th>0</th>\n",
       "      <td>Extremely satisfied</td>\n",
       "      <td>7</td>\n",
       "    </tr>\n",
       "    <tr>\n",
       "      <th>1</th>\n",
       "      <td>Moderately dissatisfied</td>\n",
       "      <td>2</td>\n",
       "    </tr>\n",
       "    <tr>\n",
       "      <th>3</th>\n",
       "      <td>Neither satisfied nor dissatisfied</td>\n",
       "      <td>4</td>\n",
       "    </tr>\n",
       "    <tr>\n",
       "      <th>4</th>\n",
       "      <td>Slightly satisfied</td>\n",
       "      <td>5</td>\n",
       "    </tr>\n",
       "    <tr>\n",
       "      <th>5</th>\n",
       "      <td>Moderately satisfied</td>\n",
       "      <td>6</td>\n",
       "    </tr>\n",
       "  </tbody>\n",
       "</table>\n",
       "</div>"
      ],
      "text/plain": [
       "                      JobSatisfaction  JobSatisfactionScore\n",
       "0                 Extremely satisfied                     7\n",
       "1             Moderately dissatisfied                     2\n",
       "3  Neither satisfied nor dissatisfied                     4\n",
       "4                  Slightly satisfied                     5\n",
       "5                Moderately satisfied                     6"
      ]
     },
     "execution_count": 17,
     "metadata": {},
     "output_type": "execute_result"
    }
   ],
   "source": [
    "# Mapping JobSatisfaction values into the 1-7 scale, from the most dissatisfied to the most satisfied:\n",
    "\n",
    "job_satisfaction_score = {'Extremely dissatisfied': 1, \n",
    "                          'Moderately dissatisfied': 2, \n",
    "                          'Slightly dissatisfied': 3,\n",
    "                          'Neither satisfied nor dissatisfied': 4, \n",
    "                          'Slightly satisfied': 5, \n",
    "                          'Moderately satisfied': 6,\n",
    "                          'Extremely satisfied':7}\n",
    "\n",
    "data_fl['JobSatisfactionScore'] = data_fl.JobSatisfaction.map(job_satisfaction_score)\n",
    "\n",
    "data_fl[['JobSatisfaction', 'JobSatisfactionScore']].head()"
   ]
  },
  {
   "cell_type": "code",
   "execution_count": 450,
   "metadata": {},
   "outputs": [
    {
     "data": {
      "text/plain": [
       "count    5011.000000\n",
       "mean        5.092796\n",
       "std         1.747530\n",
       "min         1.000000\n",
       "25%         4.000000\n",
       "50%         6.000000\n",
       "75%         6.000000\n",
       "max         7.000000\n",
       "Name: JobSatisfactionScore, dtype: float64"
      ]
     },
     "execution_count": 450,
     "metadata": {},
     "output_type": "execute_result"
    }
   ],
   "source": [
    "# Functional developers distribution\n",
    "func_group = data_fl[(data_fl.IsFunctional == True)]\n",
    "func_group.JobSatisfactionScore.describe()"
   ]
  },
  {
   "cell_type": "code",
   "execution_count": 452,
   "metadata": {},
   "outputs": [
    {
     "data": {
      "text/plain": [
       "count    52085.000000\n",
       "mean         5.039973\n",
       "std          1.717450\n",
       "min          1.000000\n",
       "25%          4.000000\n",
       "50%          6.000000\n",
       "75%          6.000000\n",
       "max          7.000000\n",
       "Name: JobSatisfactionScore, dtype: float64"
      ]
     },
     "execution_count": 452,
     "metadata": {},
     "output_type": "execute_result"
    }
   ],
   "source": [
    "# Non-Functional developers distribution\n",
    "non_func_group = data_fl[(data_fl.IsFunctional == False) & \n",
    "                          (data_fl.IsDeveloper == True)]\n",
    "non_func_group.JobSatisfactionScore.describe()"
   ]
  },
  {
   "attachments": {},
   "cell_type": "markdown",
   "metadata": {
    "collapsed": true
   },
   "source": [
    "### Hypothesis Test\n",
    "\n",
    "Which group is better ? In the code below we run a t-test to get these results\n",
    "\n",
    "H0: people coding in functional languages (not necessary a developer) are happier?"
   ]
  },
  {
   "cell_type": "code",
   "execution_count": 454,
   "metadata": {},
   "outputs": [
    {
     "data": {
      "text/plain": [
       "Ttest_indResult(statistic=2.0467425297689688, pvalue=0.04072699873371087)"
      ]
     },
     "execution_count": 454,
     "metadata": {},
     "output_type": "execute_result"
    }
   ],
   "source": [
    "stats.ttest_ind(func_group.JobSatisfactionScore,non_func_group.JobSatisfactionScore, equal_var = False)"
   ]
  },
  {
   "cell_type": "markdown",
   "metadata": {},
   "source": [
    "> As the t-statistic (2.046) > critical value (1.96) and pvalue (0.040) < significance level (0.05), we reject the null hypothesis that the means are equal. So, the groups are different statistically. Thus, we can confirm people who writing code in functional languages (not necessary a developer) are happier than non-functional developers."
   ]
  },
  {
   "attachments": {},
   "cell_type": "markdown",
   "metadata": {
    "collapsed": true
   },
   "source": [
    "Let's also check another hypothesis:\n",
    "\n",
    "H0: people coding in functional languages (not necessary a developer) AND are DEVELOPERS are happier?"
   ]
  },
  {
   "cell_type": "code",
   "execution_count": 456,
   "metadata": {},
   "outputs": [
    {
     "data": {
      "text/plain": [
       "Ttest_indResult(statistic=1.5000426957157555, pvalue=0.13366091415850037)"
      ]
     },
     "execution_count": 456,
     "metadata": {},
     "output_type": "execute_result"
    }
   ],
   "source": [
    "func_group = func_group[func_group.IsDeveloper == True]\n",
    "stats.ttest_ind(func_group.JobSatisfactionScore,non_func_group.JobSatisfactionScore, equal_var = False)"
   ]
  },
  {
   "attachments": {},
   "cell_type": "markdown",
   "metadata": {},
   "source": [
    "> if we consider only functional and non-functional developers, we can confirm the groups are NOT different statistically (|t| < 1.96 and pvalue > 0.05)."
   ]
  },
  {
   "attachments": {},
   "cell_type": "markdown",
   "metadata": {},
   "source": [
    "### Q3. What is the salary level after which money doesn't make a difference in terms of job satisfaction? "
   ]
  },
  {
   "attachments": {},
   "cell_type": "markdown",
   "metadata": {
    "collapsed": true
   },
   "source": [
    "### Data normalization\n",
    "\n",
    "We don't need to any normalization as `ConvertedSalary` attribute is already normalised (Salary converted to annual USD salaries using the exchange rate on 2018-01-18, assuming 12 working months and 50 working weeks)."
   ]
  },
  {
   "cell_type": "code",
   "execution_count": 18,
   "metadata": {},
   "outputs": [],
   "source": [
    "# Removing null values, who has never had a job and 0 values for salary.\n",
    "data_s = copy.deepcopy(data[(data.JobSatisfaction.notnull()) & \n",
    "                            (data.ConvertedSalary.notnull()) &\n",
    "                            (data.ConvertedSalary > 0) &\n",
    "                            (data.LastNewJob.notnull()) &\n",
    "                            (data.LastNewJob != \"I've never had a job\")])\n"
   ]
  },
  {
   "cell_type": "code",
   "execution_count": 10,
   "metadata": {},
   "outputs": [
    {
     "data": {
      "image/png": "[encoded data removed]",
      "text/plain": [
       "<Figure size 640x480 with 1 Axes>"
      ]
     },
     "metadata": {},
     "output_type": "display_data"
    }
   ],
   "source": [
    "# Salary Distribution\n",
    "data_s.ConvertedSalary.hist(bins=100)\n",
    "plt.xticks(rotation=45)\n",
    "plt.show()"
   ]
  },
  {
   "cell_type": "code",
   "execution_count": 19,
   "metadata": {},
   "outputs": [
    {
     "data": {
      "text/html": [
       "<div>\n",
       "<style scoped>\n",
       "    .dataframe tbody tr th:only-of-type {\n",
       "        vertical-align: middle;\n",
       "    }\n",
       "\n",
       "    .dataframe tbody tr th {\n",
       "        vertical-align: top;\n",
       "    }\n",
       "\n",
       "    .dataframe thead th {\n",
       "        text-align: right;\n",
       "    }\n",
       "</style>\n",
       "<table border=\"1\" class=\"dataframe\">\n",
       "  <thead>\n",
       "    <tr style=\"text-align: right;\">\n",
       "      <th></th>\n",
       "      <th>ConvertedSalary</th>\n",
       "      <th>JobSatisfaction</th>\n",
       "      <th>JobSatisfactionScore</th>\n",
       "    </tr>\n",
       "  </thead>\n",
       "  <tbody>\n",
       "    <tr>\n",
       "      <th>1</th>\n",
       "      <td>70841.0</td>\n",
       "      <td>Moderately dissatisfied</td>\n",
       "      <td>2</td>\n",
       "    </tr>\n",
       "    <tr>\n",
       "      <th>4</th>\n",
       "      <td>21426.0</td>\n",
       "      <td>Slightly satisfied</td>\n",
       "      <td>5</td>\n",
       "    </tr>\n",
       "    <tr>\n",
       "      <th>5</th>\n",
       "      <td>41671.0</td>\n",
       "      <td>Moderately satisfied</td>\n",
       "      <td>6</td>\n",
       "    </tr>\n",
       "    <tr>\n",
       "      <th>6</th>\n",
       "      <td>120000.0</td>\n",
       "      <td>Slightly satisfied</td>\n",
       "      <td>5</td>\n",
       "    </tr>\n",
       "    <tr>\n",
       "      <th>8</th>\n",
       "      <td>250000.0</td>\n",
       "      <td>Moderately satisfied</td>\n",
       "      <td>6</td>\n",
       "    </tr>\n",
       "  </tbody>\n",
       "</table>\n",
       "</div>"
      ],
      "text/plain": [
       "   ConvertedSalary          JobSatisfaction  JobSatisfactionScore\n",
       "1          70841.0  Moderately dissatisfied                     2\n",
       "4          21426.0       Slightly satisfied                     5\n",
       "5          41671.0     Moderately satisfied                     6\n",
       "6         120000.0       Slightly satisfied                     5\n",
       "8         250000.0     Moderately satisfied                     6"
      ]
     },
     "execution_count": 19,
     "metadata": {},
     "output_type": "execute_result"
    }
   ],
   "source": [
    "data_s['JobSatisfactionScore'] = data_s.JobSatisfaction.map(job_satisfaction_score)\n",
    "data_s[['ConvertedSalary', 'JobSatisfaction', 'JobSatisfactionScore']].head()"
   ]
  },
  {
   "cell_type": "code",
   "execution_count": 463,
   "metadata": {
    "collapsed": true
   },
   "outputs": [],
   "source": [
    "# Removing salaries > 250000 because the most salaries is lower than this value.\n",
    "# Creating a boxplot: JobSatisfactionScore vs ConvertedSalary"
   ]
  },
  {
   "cell_type": "code",
   "execution_count": 464,
   "metadata": {},
   "outputs": [
    {
     "data": {
      "image/png": "[encoded data removed]",
      "text/plain": [
       "<Figure size 432x288 with 1 Axes>"
      ]
     },
     "metadata": {},
     "output_type": "display_data"
    }
   ],
   "source": [
    "data_s = data_s[data_s.ConvertedSalary < 250000]\n",
    "ax = sns.boxplot(data_s.JobSatisfactionScore, data_s.ConvertedSalary)\n",
    "plt.show()"
   ]
  },
  {
   "cell_type": "code",
   "execution_count": 20,
   "metadata": {},
   "outputs": [
    {
     "data": {
      "text/plain": [
       "array([50000., 51983., 48313., 40261., 44504., 57276., 69192.])"
      ]
     },
     "execution_count": 20,
     "metadata": {},
     "output_type": "execute_result"
    }
   ],
   "source": [
    "data_s.groupby(['JobSatisfactionScore'])['ConvertedSalary'].median().values"
   ]
  },
  {
   "cell_type": "markdown",
   "metadata": {},
   "source": [
    "> Here, it seems higher salaries mean higher satisfaction. As you can see in score 6 (Moderately satisfied) and score 7 (Extremely satisfied), they have the highest medians, around 57k and 69k respectively.\n",
    "Although, after around 200k (max value of score 7 without outliers), we can say the job satisfaction has no longer influence in the salary anymore."
   ]
  },
  {
   "cell_type": "code",
   "execution_count": 466,
   "metadata": {
    "collapsed": true
   },
   "outputs": [],
   "source": [
    "# Mapping ConvertedSalary values into 10 ranges of salary, from 0k-25k to 225k-250k"
   ]
  },
  {
   "cell_type": "code",
   "execution_count": 21,
   "metadata": {},
   "outputs": [
    {
     "data": {
      "text/html": [
       "<div>\n",
       "<style scoped>\n",
       "    .dataframe tbody tr th:only-of-type {\n",
       "        vertical-align: middle;\n",
       "    }\n",
       "\n",
       "    .dataframe tbody tr th {\n",
       "        vertical-align: top;\n",
       "    }\n",
       "\n",
       "    .dataframe thead th {\n",
       "        text-align: right;\n",
       "    }\n",
       "</style>\n",
       "<table border=\"1\" class=\"dataframe\">\n",
       "  <thead>\n",
       "    <tr style=\"text-align: right;\">\n",
       "      <th></th>\n",
       "      <th>ConvertedSalary</th>\n",
       "      <th>ConvertedSalaryRange</th>\n",
       "      <th>ConvertedSalaryLabel</th>\n",
       "      <th>JobSatisfactionScore</th>\n",
       "    </tr>\n",
       "  </thead>\n",
       "  <tbody>\n",
       "    <tr>\n",
       "      <th>1</th>\n",
       "      <td>70841.0</td>\n",
       "      <td>2</td>\n",
       "      <td>50k-75k</td>\n",
       "      <td>2</td>\n",
       "    </tr>\n",
       "    <tr>\n",
       "      <th>4</th>\n",
       "      <td>21426.0</td>\n",
       "      <td>0</td>\n",
       "      <td>0k-25k</td>\n",
       "      <td>5</td>\n",
       "    </tr>\n",
       "    <tr>\n",
       "      <th>5</th>\n",
       "      <td>41671.0</td>\n",
       "      <td>1</td>\n",
       "      <td>25k-50k</td>\n",
       "      <td>6</td>\n",
       "    </tr>\n",
       "    <tr>\n",
       "      <th>6</th>\n",
       "      <td>120000.0</td>\n",
       "      <td>4</td>\n",
       "      <td>100k-125k</td>\n",
       "      <td>5</td>\n",
       "    </tr>\n",
       "    <tr>\n",
       "      <th>17</th>\n",
       "      <td>47904.0</td>\n",
       "      <td>1</td>\n",
       "      <td>25k-50k</td>\n",
       "      <td>6</td>\n",
       "    </tr>\n",
       "  </tbody>\n",
       "</table>\n",
       "</div>"
      ],
      "text/plain": [
       "    ConvertedSalary  ConvertedSalaryRange ConvertedSalaryLabel  \\\n",
       "1           70841.0                     2              50k-75k   \n",
       "4           21426.0                     0               0k-25k   \n",
       "5           41671.0                     1              25k-50k   \n",
       "6          120000.0                     4            100k-125k   \n",
       "17          47904.0                     1              25k-50k   \n",
       "\n",
       "    JobSatisfactionScore  \n",
       "1                      2  \n",
       "4                      5  \n",
       "5                      6  \n",
       "6                      5  \n",
       "17                     6  "
      ]
     },
     "execution_count": 21,
     "metadata": {},
     "output_type": "execute_result"
    }
   ],
   "source": [
    "nbins = 10\n",
    "data_s['ConvertedSalaryRange'] = pd.cut(data_s['ConvertedSalary'], \n",
    "                                        bins=nbins, \n",
    "                                        labels=False) \n",
    "labels = np.array(['0k-25k', '25k-50k', '50k-75k', '75k-100k', '100k-125k', '125k-150k', '150k-175k', '175k-200k', '200k-225k', '225k-250k'])\n",
    "\n",
    "data_s['ConvertedSalaryLabel'] = labels[data_s['ConvertedSalaryRange']]\n",
    "\n",
    "data_s[['ConvertedSalary', 'ConvertedSalaryRange', 'ConvertedSalaryLabel', 'JobSatisfactionScore']].head()"
   ]
  },
  {
   "attachments": {},
   "cell_type": "markdown",
   "metadata": {
    "collapsed": true
   },
   "source": [
    "### Other visualizaitons: a stacked bar chart "
   ]
  },
  {
   "cell_type": "code",
   "execution_count": 36,
   "metadata": {},
   "outputs": [],
   "source": [
    "distributions = {}\n",
    "color_map = { 1: '#762a83', 2: '#af8dc3', 3: '#e7d4e8', 4: '#f7f7f7', 5: '#d9f0d3', 6: '#7fbf7b', 7: '#1b7837'}\n",
    "\n",
    "data_df = copy.deepcopy(data_s)\n",
    "\n",
    "# create each bin (stacked bar)\n",
    "for i in range(0, nbins):\n",
    "    df = data_df[(data_df['ConvertedSalaryRange'] == i)]\n",
    "    \n",
    "    # loop over the JobSatisfactionScore values\n",
    "    for j in range(1, 8):\n",
    "        if j not in distributions:\n",
    "            distributions[j] = []\n",
    "        \n",
    "        # Calculate percentage\n",
    "        partial = df[(df['JobSatisfactionScore'] == j)].count()['JobSatisfactionScore']    \n",
    "        total = df.count()['JobSatisfactionScore']    \n",
    "         \n",
    "        distributions[j].append(partial/total)\n",
    "\n",
    "# Build the chart      \n",
    "res = []\n",
    "for k,v in distributions.items():  \n",
    "    trace = go.Bar(\n",
    "        x=labels,\n",
    "        y=[x*100 for x in v],\n",
    "        name=str(k),\n",
    "        marker=dict(color=color_map[k])\n",
    "    )\n",
    "\n",
    "    res.append(trace)\n",
    "    \n",
    "layout = go.Layout(\n",
    "    barmode='stack',\n",
    "    xaxis=dict(title='Salary Range'),\n",
    "    yaxis=dict(title='% of Respondents')\n",
    ")\n",
    "\n",
    "fig = go.Figure(data=res, layout=layout)\n",
    "#plotly.offline.iplot(fig)\n"
   ]
  },
  {
   "attachments": {},
   "cell_type": "markdown",
   "metadata": {},
   "source": [
    "![My Image](fig/chart.png)\n",
    "\n",
    "\n",
    ">Here, you can see the distribution (percentage of respondents) of JobSatisfationScore per salary range. Like the previous box-plot, we can notice the higher salaries mean higher satisfaction (growth of score 7). Although, after the range of 175k-200k, so after 200k, the percentage of people who pick the score 7 (Extremely satisfied) started to decrease which suggests that salary increase stopped increasing job statisfaction."
   ]
  },
  {
   "attachments": {},
   "cell_type": "markdown",
   "metadata": {
    "collapsed": true
   },
   "source": [
    "### Q4. Do developers who exercise are happier and more productive than developers who don’t exercise? "
   ]
  },
  {
   "cell_type": "code",
   "execution_count": 471,
   "metadata": {
    "collapsed": true
   },
   "outputs": [],
   "source": [
    "# Removing null values and who has never had a job.\n",
    "data_dev = copy.deepcopy(data[(data.IsDeveloper == True) &\n",
    "                        (data.Exercise.notnull()) & \n",
    "                        (data.JobSatisfaction.notnull()) & \n",
    "                        (data.LastNewJob.notnull()) & \n",
    "                        (data.LastNewJob != \"I've never had a job\")])\n",
    "\n",
    "data_dev['JobSatisfactionScore'] = data_dev.JobSatisfaction.map(job_satisfaction_score)\n"
   ]
  },
  {
   "cell_type": "code",
   "execution_count": 472,
   "metadata": {
    "scrolled": true
   },
   "outputs": [
    {
     "data": {
      "text/html": [
       "<div>\n",
       "<style scoped>\n",
       "    .dataframe tbody tr th:only-of-type {\n",
       "        vertical-align: middle;\n",
       "    }\n",
       "\n",
       "    .dataframe tbody tr th {\n",
       "        vertical-align: top;\n",
       "    }\n",
       "\n",
       "    .dataframe thead th {\n",
       "        text-align: right;\n",
       "    }\n",
       "</style>\n",
       "<table border=\"1\" class=\"dataframe\">\n",
       "  <thead>\n",
       "    <tr style=\"text-align: right;\">\n",
       "      <th></th>\n",
       "      <th>Exercise</th>\n",
       "      <th>JobSatisfaction</th>\n",
       "      <th>JobSatisfactionScore</th>\n",
       "    </tr>\n",
       "  </thead>\n",
       "  <tbody>\n",
       "    <tr>\n",
       "      <th>0</th>\n",
       "      <td>3 - 4 times per week</td>\n",
       "      <td>Extremely satisfied</td>\n",
       "      <td>7</td>\n",
       "    </tr>\n",
       "    <tr>\n",
       "      <th>1</th>\n",
       "      <td>Daily or almost every day</td>\n",
       "      <td>Moderately dissatisfied</td>\n",
       "      <td>2</td>\n",
       "    </tr>\n",
       "    <tr>\n",
       "      <th>3</th>\n",
       "      <td>I don't typically exercise</td>\n",
       "      <td>Neither satisfied nor dissatisfied</td>\n",
       "      <td>4</td>\n",
       "    </tr>\n",
       "    <tr>\n",
       "      <th>4</th>\n",
       "      <td>3 - 4 times per week</td>\n",
       "      <td>Slightly satisfied</td>\n",
       "      <td>5</td>\n",
       "    </tr>\n",
       "    <tr>\n",
       "      <th>5</th>\n",
       "      <td>1 - 2 times per week</td>\n",
       "      <td>Moderately satisfied</td>\n",
       "      <td>6</td>\n",
       "    </tr>\n",
       "  </tbody>\n",
       "</table>\n",
       "</div>"
      ],
      "text/plain": [
       "                     Exercise                     JobSatisfaction  \\\n",
       "0        3 - 4 times per week                 Extremely satisfied   \n",
       "1   Daily or almost every day             Moderately dissatisfied   \n",
       "3  I don't typically exercise  Neither satisfied nor dissatisfied   \n",
       "4        3 - 4 times per week                  Slightly satisfied   \n",
       "5        1 - 2 times per week                Moderately satisfied   \n",
       "\n",
       "   JobSatisfactionScore  \n",
       "0                     7  \n",
       "1                     2  \n",
       "3                     4  \n",
       "4                     5  \n",
       "5                     6  "
      ]
     },
     "execution_count": 472,
     "metadata": {},
     "output_type": "execute_result"
    }
   ],
   "source": [
    "data_dev[['Exercise', 'JobSatisfaction', 'JobSatisfactionScore']].head()"
   ]
  },
  {
   "cell_type": "code",
   "execution_count": 473,
   "metadata": {
    "collapsed": true
   },
   "outputs": [],
   "source": [
    "# developers who exercise"
   ]
  },
  {
   "cell_type": "code",
   "execution_count": 474,
   "metadata": {},
   "outputs": [
    {
     "data": {
      "text/plain": [
       "count    35105.000000\n",
       "mean         5.088477\n",
       "std          1.711479\n",
       "min          1.000000\n",
       "25%          4.000000\n",
       "50%          6.000000\n",
       "75%          6.000000\n",
       "max          7.000000\n",
       "Name: JobSatisfactionScore, dtype: float64"
      ]
     },
     "execution_count": 474,
     "metadata": {},
     "output_type": "execute_result"
    }
   ],
   "source": [
    "exercise_group = data_dev[data_dev.Exercise != \"I don't typically exercise\"]\n",
    "exercise_group.JobSatisfactionScore.describe()"
   ]
  },
  {
   "cell_type": "code",
   "execution_count": 475,
   "metadata": {
    "collapsed": true
   },
   "outputs": [],
   "source": [
    "# developers who don't exercise"
   ]
  },
  {
   "cell_type": "code",
   "execution_count": 476,
   "metadata": {},
   "outputs": [
    {
     "data": {
      "text/plain": [
       "count    20919.000000\n",
       "mean         4.978823\n",
       "std          1.725713\n",
       "min          1.000000\n",
       "25%          4.000000\n",
       "50%          6.000000\n",
       "75%          6.000000\n",
       "max          7.000000\n",
       "Name: JobSatisfactionScore, dtype: float64"
      ]
     },
     "execution_count": 476,
     "metadata": {},
     "output_type": "execute_result"
    }
   ],
   "source": [
    "non_exercise_group = data_dev[data_dev.Exercise == \"I don't typically exercise\"]\n",
    "non_exercise_group.JobSatisfactionScore.describe()"
   ]
  },
  {
   "cell_type": "code",
   "execution_count": 477,
   "metadata": {
    "collapsed": true
   },
   "outputs": [],
   "source": [
    "# Hypothesis Test:"
   ]
  },
  {
   "cell_type": "code",
   "execution_count": 478,
   "metadata": {},
   "outputs": [
    {
     "data": {
      "text/plain": [
       "Ttest_indResult(statistic=7.297284566109107, pvalue=2.9861388165588865e-13)"
      ]
     },
     "execution_count": 478,
     "metadata": {},
     "output_type": "execute_result"
    }
   ],
   "source": [
    "stats.ttest_ind(exercise_group.JobSatisfactionScore,non_exercise_group.JobSatisfactionScore, equal_var = False)"
   ]
  },
  {
   "cell_type": "markdown",
   "metadata": {},
   "source": [
    "> Developers who exercise are not happier than developers who don't exercise. The groups are NOT different statiscally (pvalue > 0.05)."
   ]
  },
  {
   "attachments": {},
   "cell_type": "markdown",
   "metadata": {},
   "source": [
    "#### Using ` SkipMeals` as a productivity indicator:\n",
    "\n",
    "`SkipMeals` attribute can be considerd a measure of productivity: \"In a typical week, how many times do you skip a meal in order to be more productive?\""
   ]
  },
  {
   "cell_type": "code",
   "execution_count": 479,
   "metadata": {
    "collapsed": true
   },
   "outputs": [],
   "source": [
    "# Mapping SkipMeals values into the 0-3 scale, from the most unproductive to the most productive:"
   ]
  },
  {
   "cell_type": "code",
   "execution_count": 480,
   "metadata": {
    "collapsed": true
   },
   "outputs": [],
   "source": [
    "skip_meals_score = {'Never': 0, \n",
    "                    '1 - 2 times per week': 1, \n",
    "                    '3 - 4 times per week': 2,\n",
    "                    'Daily or almost every day': 3}\n"
   ]
  },
  {
   "cell_type": "code",
   "execution_count": 481,
   "metadata": {
    "collapsed": true
   },
   "outputs": [],
   "source": [
    "# developers who exercise "
   ]
  },
  {
   "cell_type": "code",
   "execution_count": 482,
   "metadata": {},
   "outputs": [
    {
     "data": {
      "text/plain": [
       "count    34954.000000\n",
       "mean         0.444870\n",
       "std          0.753676\n",
       "min          0.000000\n",
       "25%          0.000000\n",
       "50%          0.000000\n",
       "75%          1.000000\n",
       "max          3.000000\n",
       "Name: SkipMealsScore, dtype: float64"
      ]
     },
     "execution_count": 482,
     "metadata": {},
     "output_type": "execute_result"
    }
   ],
   "source": [
    "exercise_skip_meals_group = copy.deepcopy(exercise_group[exercise_group.SkipMeals.notnull()])\n",
    "exercise_skip_meals_group['SkipMealsScore'] = exercise_skip_meals_group.SkipMeals.map(skip_meals_score)\n",
    "\n",
    "exercise_skip_meals_group.SkipMealsScore.describe()"
   ]
  },
  {
   "cell_type": "code",
   "execution_count": 483,
   "metadata": {
    "collapsed": true
   },
   "outputs": [],
   "source": [
    "# developers who don't exercise"
   ]
  },
  {
   "cell_type": "code",
   "execution_count": 484,
   "metadata": {},
   "outputs": [
    {
     "data": {
      "text/plain": [
       "count    20854.000000\n",
       "mean         0.572408\n",
       "std          0.863875\n",
       "min          0.000000\n",
       "25%          0.000000\n",
       "50%          0.000000\n",
       "75%          1.000000\n",
       "max          3.000000\n",
       "Name: SkipMealsScore, dtype: float64"
      ]
     },
     "execution_count": 484,
     "metadata": {},
     "output_type": "execute_result"
    }
   ],
   "source": [
    "non_exercise_skip_meals_group = copy.deepcopy(non_exercise_group[non_exercise_group.SkipMeals.notnull()])\n",
    "non_exercise_skip_meals_group['SkipMealsScore'] = non_exercise_skip_meals_group.SkipMeals.map(skip_meals_score)\n",
    "non_exercise_skip_meals_group.SkipMealsScore.describe()"
   ]
  },
  {
   "attachments": {},
   "cell_type": "markdown",
   "metadata": {
    "collapsed": true
   },
   "source": [
    "### Hypothesis Test\n",
    "\n",
    "H0: Are developers who exercise are more productive than developers who don't?"
   ]
  },
  {
   "cell_type": "code",
   "execution_count": 486,
   "metadata": {},
   "outputs": [
    {
     "data": {
      "text/plain": [
       "Ttest_indResult(statistic=-17.680081274642973, pvalue=1.1131245148910053e-69)"
      ]
     },
     "execution_count": 486,
     "metadata": {},
     "output_type": "execute_result"
    }
   ],
   "source": [
    "stats.ttest_ind(exercise_skip_meals_group.SkipMealsScore,non_exercise_skip_meals_group.SkipMealsScore, equal_var = False)"
   ]
  },
  {
   "cell_type": "markdown",
   "metadata": {
    "collapsed": true
   },
   "source": [
    "> Assuming the SkipMeals attribute as a measure of productivity, developers who exercise are not more productive than developers who don't exercise. The groups are NOT different statiscally (pvalue > 0.05)."
   ]
  },
  {
   "attachments": {},
   "cell_type": "markdown",
   "metadata": {},
   "source": [
    "#### Using CheckInCode as a productivity indicator:\n",
    "\n",
    "`CheckInCode` attribute can also be considerd a measure of productivity: \"Over the last year, how often have you checked-in or committed code?\""
   ]
  },
  {
   "cell_type": "code",
   "execution_count": 487,
   "metadata": {
    "collapsed": true
   },
   "outputs": [],
   "source": [
    "## Mapping CheckInCode values into the 0-5 scale, from the most unproductive to the most productive:"
   ]
  },
  {
   "cell_type": "code",
   "execution_count": 488,
   "metadata": {
    "collapsed": true
   },
   "outputs": [],
   "source": [
    "check_in_code_score = {'Never': 0,\n",
    "                        'Less than once per month': 1,\n",
    "                        'Weekly or a few times per month': 2,\n",
    "                        'A few times per week': 3,\n",
    "                        'Once a day': 4,\n",
    "                        'Multiple times per day': 5}"
   ]
  },
  {
   "cell_type": "code",
   "execution_count": 489,
   "metadata": {
    "collapsed": true
   },
   "outputs": [],
   "source": [
    "# developers who exercise"
   ]
  },
  {
   "cell_type": "code",
   "execution_count": 490,
   "metadata": {},
   "outputs": [
    {
     "data": {
      "text/plain": [
       "count    33393.000000\n",
       "mean         4.330578\n",
       "std          1.074458\n",
       "min          0.000000\n",
       "25%          4.000000\n",
       "50%          5.000000\n",
       "75%          5.000000\n",
       "max          5.000000\n",
       "Name: CheckInCodeScore, dtype: float64"
      ]
     },
     "execution_count": 490,
     "metadata": {},
     "output_type": "execute_result"
    }
   ],
   "source": [
    "exercise_check_in_code_group = copy.deepcopy(exercise_group[exercise_group.CheckInCode.notnull()])\n",
    "exercise_check_in_code_group['CheckInCodeScore'] = exercise_check_in_code_group.CheckInCode.map(check_in_code_score)\n",
    "exercise_check_in_code_group.CheckInCodeScore.describe()"
   ]
  },
  {
   "cell_type": "code",
   "execution_count": 491,
   "metadata": {
    "collapsed": true
   },
   "outputs": [],
   "source": [
    "# developers who don't exercise"
   ]
  },
  {
   "cell_type": "code",
   "execution_count": 492,
   "metadata": {},
   "outputs": [
    {
     "data": {
      "text/plain": [
       "count    19807.000000\n",
       "mean         4.308982\n",
       "std          1.101738\n",
       "min          0.000000\n",
       "25%          4.000000\n",
       "50%          5.000000\n",
       "75%          5.000000\n",
       "max          5.000000\n",
       "Name: CheckInCodeScore, dtype: float64"
      ]
     },
     "execution_count": 492,
     "metadata": {},
     "output_type": "execute_result"
    }
   ],
   "source": [
    "non_exercise_check_in_code_group = copy.deepcopy(non_exercise_group[non_exercise_group.CheckInCode.notnull()])\n",
    "non_exercise_check_in_code_group['CheckInCodeScore'] = non_exercise_check_in_code_group.CheckInCode.map(check_in_code_score)\n",
    "non_exercise_check_in_code_group.CheckInCodeScore.describe()"
   ]
  },
  {
   "attachments": {},
   "cell_type": "markdown",
   "metadata": {
    "collapsed": true
   },
   "source": [
    "### Hypothesis Test\n",
    "\n",
    "H0: Based on `CheckInCode` metric, are developers who exercise more productive than developers who don't?"
   ]
  },
  {
   "cell_type": "code",
   "execution_count": 494,
   "metadata": {},
   "outputs": [
    {
     "data": {
      "text/plain": [
       "Ttest_indResult(statistic=2.2058640758486923, pvalue=0.027399076572388503)"
      ]
     },
     "execution_count": 494,
     "metadata": {},
     "output_type": "execute_result"
    }
   ],
   "source": [
    "stats.ttest_ind(exercise_check_in_code_group.CheckInCodeScore,non_exercise_check_in_code_group.CheckInCodeScore, equal_var = False)\n"
   ]
  },
  {
   "cell_type": "markdown",
   "metadata": {},
   "source": [
    "> Assuming the CheckInCode attribute as a measure of productivity, developers who exercise are more productive than developers who don't exercise (|t| > 1.96 and pvalue < 0.05)."
   ]
  },
  {
   "cell_type": "code",
   "execution_count": null,
   "metadata": {
    "collapsed": true
   },
   "outputs": [],
   "source": []
  },
  {
   "cell_type": "code",
   "execution_count": null,
   "metadata": {
    "collapsed": true
   },
   "outputs": [],
   "source": []
  }
 ],
 "metadata": {
  "kernelspec": {
   "display_name": "Python 3",
   "language": "python",
   "name": "python3"
  },
  "language_info": {
   "codemirror_mode": {
    "name": "ipython",
    "version": 3
   },
   "file_extension": ".py",
   "mimetype": "text/x-python",
   "name": "python",
   "nbconvert_exporter": "python",
   "pygments_lexer": "ipython3",
   "version": "3.5.1"
  }
 },
 "nbformat": 4,
 "nbformat_minor": 2
}
